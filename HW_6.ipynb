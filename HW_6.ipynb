{
 "cells": [
  {
   "cell_type": "code",
   "execution_count": null,
   "id": "c94a1e5f",
   "metadata": {},
   "outputs": [],
   "source": [
    "1) Известно, что генеральная совокупность распределена нормально со средним квадратическим отклонением, равным 16. Найти \n",
    "доверительный интервал для оценки математического ожидания a с надежностью 0.95, если выборочная средняя M = 80, а объем \n",
    "выборки n = 256."
   ]
  },
  {
   "cell_type": "code",
   "execution_count": null,
   "id": "4f93a099",
   "metadata": {},
   "outputs": [],
   "source": [
    "Исользуем Z - критерий"
   ]
  },
  {
   "cell_type": "code",
   "execution_count": null,
   "id": "67eb519b",
   "metadata": {},
   "outputs": [],
   "source": [
    "Среднее значение выборки = М = 80, ср.квадр. отклонение = 16, n = 256, табл. значение Z, расчет границы дов.инт-ла:"
   ]
  },
  {
   "cell_type": "code",
   "execution_count": 11,
   "id": "3baf0ad7",
   "metadata": {},
   "outputs": [
    {
     "name": "stdout",
     "output_type": "stream",
     "text": [
      "Ответ: дов.интервал: [78.04;81.96].\n"
     ]
    }
   ],
   "source": [
    "m = 80\n",
    "si = 16\n",
    "z = 1.96\n",
    "n = 256\n",
    "leftBorder = m - z * si / n ** 0.5\n",
    "rightBorder = m + z * si / n ** 0.5\n",
    "print(f'Ответ: дов.интервал: [{leftBorder};{rightBorder}].')"
   ]
  },
  {
   "cell_type": "code",
   "execution_count": null,
   "id": "e8ce0a41",
   "metadata": {},
   "outputs": [],
   "source": [
    "2) В результате 10 независимых измерений некоторой величины X, выполненных с одинаковой точностью, получены опытные данные:\n",
    "    6.9, 6.1, 6.2, 6.8, 7.5, 6.3, 6.4, 6.9, 6.7, 6.1\n",
    "Предполагая, что результаты измерений подчинены нормальному закону распределения вероятностей, оценить истинное значение \n",
    "величины X при помощи доверительного интервала, покрывающего это значение с доверительной вероятностью 0,95."
   ]
  },
  {
   "cell_type": "code",
   "execution_count": null,
   "id": "006e2726",
   "metadata": {},
   "outputs": [],
   "source": [
    "Используем t - критерий"
   ]
  },
  {
   "cell_type": "code",
   "execution_count": 23,
   "id": "cc429bce",
   "metadata": {},
   "outputs": [
    {
     "name": "stdout",
     "output_type": "stream",
     "text": [
      "ср.выборочное:  6.59,\n",
      "размер выборки: n=10,\n",
      "ср.квадр. несмещенное отклонение:  0.45,\n",
      "табл.t-критерий: 2.2621571627409915\n",
      "Ответ: дов. интервал: (6.2675159, 6.9124841)\n"
     ]
    }
   ],
   "source": [
    "import numpy as np\n",
    "ar = np.array([6.9, 6.1, 6.2, 6.8, 7.5, 6.3, 6.4, 6.9, 6.7, 6.1])\n",
    "print(f'ср.выборочное: {np.mean(ar): .2f},')\n",
    "print(f'размер выборки: n={len(ar)},')\n",
    "print(f'ср.квадр. несмещенное отклонение: {np.std(ar, ddof=1): .2f},')\n",
    "\n",
    "import scipy.stats as stats\n",
    "def tableT(confidens, len_array):\n",
    "    a = (1 - confidens)\n",
    "    return stats.t.ppf(1-a/2, len_array - 1)\n",
    "print(f'табл.t-критерий: {tableT(0.95, len(ar))}')\n",
    "\n",
    "def confidensInterval(ar, confidens):\n",
    "    return round(np.mean(ar) - tableT(confidens, len(ar)) * np.std(ar, ddof = 1) / len(ar) ** 0.5, 7), round(np.mean(ar) + tableT(confidens, len(ar)) * np.std(ar, ddof = 1) / len(ar) ** 0.5, 7)\n",
    "print(f'Ответ: дов. интервал: {confidensInterval(ar, 0.95)}')"
   ]
  },
  {
   "cell_type": "code",
   "execution_count": null,
   "id": "e8271b9d",
   "metadata": {},
   "outputs": [],
   "source": [
    "3)Рост дочерей 175, 167, 154, 174, 178, 148, 160, 167, 169, 170. Рост матерей  178, 165, 165, 173, 168, 155, 160, 164, 178, 175\n",
    "Используя эти данные построить 95% доверительный интервал для разности среднего роста родителей и детей."
   ]
  },
  {
   "cell_type": "code",
   "execution_count": 40,
   "id": "1c8d4927",
   "metadata": {},
   "outputs": [
    {
     "name": "stdout",
     "output_type": "stream",
     "text": [
      "meanDif: 1.9000000000000057\n",
      "3.888015775002291\n",
      "2.10092204024096\n",
      "Ответ: дов.интервал разности среднего роста: [-6.27, 10.07]\n"
     ]
    }
   ],
   "source": [
    "import numpy as np\n",
    "arMoms = np.array([178, 165, 165, 173, 168, 155, 160, 164, 178, 175])\n",
    "arKids = np.array([175, 167, 154, 174, 178, 148, 160, 167, 169, 170])\n",
    "n1 = len(arMoms)\n",
    "n2 = len(arKids)\n",
    "\n",
    "meanMoms = np.mean(arMoms)\n",
    "meanKids = np.mean(arKids)\n",
    "meanDifference = meanMoms - meanKids\n",
    "print(f'meanDif: {meanDifference}')\n",
    "stdError = np.sqrt(np.var(arMoms, ddof = 1) / n1 + np.var(arKids, ddof = 1) / n2)\n",
    "print(stdError)\n",
    "criticalT = stats.t.ppf((0.95 + 0.025), n1 + n2 - 2)\n",
    "print(criticalT)\n",
    "leftBorder = meanDifference - criticalT*stdError\n",
    "rightBorder = meanDifference + criticalT*stdError\n",
    "print(f'Ответ: дов.интервал разности среднего роста: [{leftBorder:.2f}, {rightBorder:.2f}]')"
   ]
  },
  {
   "cell_type": "code",
   "execution_count": null,
   "id": "bfd8e29b",
   "metadata": {},
   "outputs": [],
   "source": []
  }
 ],
 "metadata": {
  "kernelspec": {
   "display_name": "Python 3 (ipykernel)",
   "language": "python",
   "name": "python3"
  },
  "language_info": {
   "codemirror_mode": {
    "name": "ipython",
    "version": 3
   },
   "file_extension": ".py",
   "mimetype": "text/x-python",
   "name": "python",
   "nbconvert_exporter": "python",
   "pygments_lexer": "ipython3",
   "version": "3.9.12"
  }
 },
 "nbformat": 4,
 "nbformat_minor": 5
}
