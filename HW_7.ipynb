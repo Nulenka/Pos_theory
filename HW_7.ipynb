{
 "cells": [
  {
   "cell_type": "code",
   "execution_count": null,
   "id": "2e254d21",
   "metadata": {},
   "outputs": [],
   "source": [
    "1 )  Даны две  независимые выборки. Не соблюдается условие нормальности\n",
    "x1  380,420, 290\n",
    "y1 140,360,200,900\n",
    "Сделайте вывод по результатам, полученным с помощью функции"
   ]
  },
  {
   "cell_type": "code",
   "execution_count": 2,
   "id": "c3adc9ad",
   "metadata": {},
   "outputs": [
    {
     "data": {
      "text/plain": [
       "MannwhitneyuResult(statistic=8.0, pvalue=0.6285714285714286)"
      ]
     },
     "execution_count": 2,
     "metadata": {},
     "output_type": "execute_result"
    }
   ],
   "source": [
    "import numpy as np\n",
    "import scipy.stats as stats\n",
    "x1=np.array([380,420,290])\n",
    "y1=np.array([140,360,200,900])\n",
    "alpha=0.05\n",
    "stats.mannwhitneyu(x1, y1)"
   ]
  },
  {
   "cell_type": "code",
   "execution_count": null,
   "id": "4794aaf5",
   "metadata": {},
   "outputs": [],
   "source": [
    "Не отвергаем нулевую гипотезу, т.к. pvalue больше 0.05"
   ]
  },
  {
   "cell_type": "code",
   "execution_count": null,
   "id": "b71f4800",
   "metadata": {},
   "outputs": [],
   "source": [
    "2 ) Исследовалось влияние препарата на уровень давления пациентов. Сначала измерялось давление до приема препарата, \n",
    "потом через 10 минут и через 30 минут. Есть ли статистически значимые различия?\n",
    "1е измерение до приема препарата: 150, 160, 165, 145, 155\n",
    "2е измерение через 10 минут: 140, 155, 150,  130, 135\n",
    "3е измерение через 30 минут: 130, 130, 120, 130, 125"
   ]
  },
  {
   "cell_type": "code",
   "execution_count": 3,
   "id": "270301da",
   "metadata": {},
   "outputs": [
    {
     "data": {
      "text/plain": [
       "FriedmanchisquareResult(statistic=9.578947368421062, pvalue=0.00831683351100441)"
      ]
     },
     "execution_count": 3,
     "metadata": {},
     "output_type": "execute_result"
    }
   ],
   "source": [
    "import numpy as np\n",
    "import scipy.stats as stats\n",
    "x1=np.array([150, 160, 165, 145, 155])\n",
    "x2=np.array([140, 155, 150, 130, 135])\n",
    "x3=np.array([130, 130, 120, 130, 125])\n",
    "alpha=0.05\n",
    "stats.friedmanchisquare(x1, x2, x3)"
   ]
  },
  {
   "cell_type": "code",
   "execution_count": null,
   "id": "21220bcb",
   "metadata": {},
   "outputs": [],
   "source": [
    "Cтат.значимые различия есть, препарат влияет."
   ]
  },
  {
   "cell_type": "code",
   "execution_count": null,
   "id": "d4f8de1a",
   "metadata": {},
   "outputs": [],
   "source": [
    "3) Сравните 1 и 2 е измерения, предполагая, что 3го измерения через 30 минут не было."
   ]
  },
  {
   "cell_type": "code",
   "execution_count": 4,
   "id": "00bdb488",
   "metadata": {},
   "outputs": [
    {
     "data": {
      "text/plain": [
       "WilcoxonResult(statistic=0.0, pvalue=0.0625)"
      ]
     },
     "execution_count": 4,
     "metadata": {},
     "output_type": "execute_result"
    }
   ],
   "source": [
    "import numpy as np\n",
    "import scipy.stats as stats\n",
    "x1=np.array([150, 160, 165, 145, 155])\n",
    "x2=np.array([140, 155, 150, 130, 135])\n",
    "alpha=0.05\n",
    "stats.wilcoxon(x1, x2)"
   ]
  },
  {
   "cell_type": "code",
   "execution_count": null,
   "id": "3c985c92",
   "metadata": {},
   "outputs": [],
   "source": [
    "Стат.знач. различий нет, препарат не влияет"
   ]
  },
  {
   "cell_type": "code",
   "execution_count": null,
   "id": "6dd4a2e7",
   "metadata": {},
   "outputs": [],
   "source": [
    "4) Даны 3 группы  учеников плавания. Сравнить результаты для спортсменов. \n",
    "В 1 группе время на дистанцию 50 м составляют:\n",
    "56, 60, 62, 55, 71, 67, 59, 58, 64, 67\n",
    "Вторая группа : 57, 58, 69, 48, 72, 70, 68, 71, 50, 53\n",
    "Третья группа: 57, 67, 49, 48, 47, 55, 66, 51, 54"
   ]
  },
  {
   "cell_type": "code",
   "execution_count": 5,
   "id": "12b04517",
   "metadata": {},
   "outputs": [
    {
     "data": {
      "text/plain": [
       "KruskalResult(statistic=5.465564058257224, pvalue=0.0650380998590494)"
      ]
     },
     "execution_count": 5,
     "metadata": {},
     "output_type": "execute_result"
    }
   ],
   "source": [
    "import numpy as np\n",
    "import scipy.stats as stats\n",
    "x1=np.array([56, 60, 62, 55, 71, 67, 59, 58, 64, 67])\n",
    "x2=np.array([57, 58, 69, 48, 72, 70, 68, 71, 50, 53])\n",
    "x3=np.array([57, 67, 49, 48, 47, 55, 66, 51, 54])\n",
    "alpha=0.05\n",
    "stats.kruskal(x1,x2,x3)"
   ]
  },
  {
   "cell_type": "code",
   "execution_count": null,
   "id": "fc1fd2df",
   "metadata": {},
   "outputs": [],
   "source": [
    "Стат.знач. различий нет, нулевую гипотезу не отвергаем"
   ]
  },
  {
   "cell_type": "code",
   "execution_count": null,
   "id": "0d46e5f0",
   "metadata": {},
   "outputs": [],
   "source": [
    "5) Заявляется, что партия изготавливается со средним арифметическим 2,5 см. \n",
    "Проверить данную гипотезу, если известно, что размеры изделий подчинены нормальному закону распределения. \n",
    "Объем выборки 10, уровень статистической значимости 5%\n",
    "2.51, 2.35, 2.74, 2.56, 2.40, 2.36, 2.65, 2.7, 2.67, 2.34"
   ]
  },
  {
   "cell_type": "code",
   "execution_count": null,
   "id": "3edbc7e7",
   "metadata": {},
   "outputs": [],
   "source": [
    "n = 10\n",
    "m= 2,5\n",
    "mean = 2,5279999999999996\n",
    "std = 0,1572542173961923\n",
    "Доверительная вероятность равна 0,05\n",
    "Число степеней свободы = 10-1 = 9\n",
    "t наблюдаемое = 0.5630613661802959\n",
    "по таблице Стьюдента  t  = 1.833 (для = 0.05)\n",
    "t табл = 2.26\n",
    "t набл = 0.563\n",
    "Нулевую гипотезу не отвергаем"
   ]
  }
 ],
 "metadata": {
  "kernelspec": {
   "display_name": "Python 3 (ipykernel)",
   "language": "python",
   "name": "python3"
  },
  "language_info": {
   "codemirror_mode": {
    "name": "ipython",
    "version": 3
   },
   "file_extension": ".py",
   "mimetype": "text/x-python",
   "name": "python",
   "nbconvert_exporter": "python",
   "pygments_lexer": "ipython3",
   "version": "3.9.12"
  }
 },
 "nbformat": 4,
 "nbformat_minor": 5
}
