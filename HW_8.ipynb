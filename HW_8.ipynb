{
 "cells": [
  {
   "cell_type": "code",
   "execution_count": null,
   "id": "afdc6863",
   "metadata": {},
   "outputs": [],
   "source": [
    "1. Даны значения величины заработной платы заемщиков банка (zp) и значения их поведенческого кредитного скоринга (ks):\n",
    "zp = [35, 45, 190, 200, 40, 70, 54, 150, 120, 110],\n",
    "ks = [401, 574, 874, 919, 459, 739, 653, 902, 746, 832].\n",
    "Найдите ковариацию этих двух величин с помощью элементарных действий, а затем с помощью функции cov из numpy. Полученные \n",
    "значения должны быть равны. Найдите коэффициент корреляции Пирсона с помощью ковариации и среднеквадратичных отклонений\n",
    "двух признаков, а затем с использованием функций из библиотек numpy и pandas."
   ]
  },
  {
   "cell_type": "code",
   "execution_count": 10,
   "id": "b1277bf3",
   "metadata": {},
   "outputs": [
    {
     "name": "stdout",
     "output_type": "stream",
     "text": [
      "Ковариация: 9157.839999999997.\n"
     ]
    }
   ],
   "source": [
    "import numpy as np\n",
    "import pandas as pd\n",
    "from statsmodels.stats.weightstats import _tconfint_generic as t_stat\n",
    "zp = np.array([35, 45, 190, 200, 40, 70, 54, 150, 120, 110])\n",
    "ks = np.array([401, 574, 874, 919, 459, 739, 653, 902, 746, 832])\n",
    "meanZP = zp.mean()\n",
    "meanKS = ks.mean()\n",
    "meanZPKS = (zp * ks).mean()\n",
    "print(f'Ковариация: {meanZPKS - meanZP * meanKS}.')"
   ]
  },
  {
   "cell_type": "code",
   "execution_count": 4,
   "id": "106f6d04",
   "metadata": {},
   "outputs": [
    {
     "data": {
      "text/plain": [
       "array([[ 3494.64,  9157.84],\n",
       "       [ 9157.84, 30468.89]])"
      ]
     },
     "execution_count": 4,
     "metadata": {},
     "output_type": "execute_result"
    }
   ],
   "source": [
    "np.cov(zp, ks, ddof = 0)"
   ]
  },
  {
   "cell_type": "code",
   "execution_count": 13,
   "id": "eeb52a54",
   "metadata": {},
   "outputs": [
    {
     "name": "stdout",
     "output_type": "stream",
     "text": [
      "0.8874900920739158\n"
     ]
    }
   ],
   "source": [
    "stdZP = zp.std()\n",
    "stdKS = ks.std()\n",
    "corrKS = (meanZPKS - meanZP * meanKS) / (stdZP * stdKS)\n",
    "print(corrKS)"
   ]
  },
  {
   "cell_type": "code",
   "execution_count": 14,
   "id": "572a9fd4",
   "metadata": {},
   "outputs": [
    {
     "data": {
      "text/plain": [
       "array([[1.        , 0.88749009],\n",
       "       [0.88749009, 1.        ]])"
      ]
     },
     "execution_count": 14,
     "metadata": {},
     "output_type": "execute_result"
    }
   ],
   "source": [
    "np.corrcoef(zp, ks)"
   ]
  },
  {
   "cell_type": "code",
   "execution_count": 15,
   "id": "0cbd13ec",
   "metadata": {},
   "outputs": [
    {
     "data": {
      "text/plain": [
       "0.8874900920739163"
      ]
     },
     "execution_count": 15,
     "metadata": {},
     "output_type": "execute_result"
    }
   ],
   "source": [
    "pd.Series(zp).corr(pd.Series(ks), method='pearson')"
   ]
  },
  {
   "cell_type": "code",
   "execution_count": null,
   "id": "42c55014",
   "metadata": {},
   "outputs": [],
   "source": [
    "2. Измерены значения IQ выборки студентов, обучающихся в местных технических вузах:\n",
    "    131, 125, 115, 122, 131, 115, 107, 99, 125, 111.\n",
    "Известно, что в генеральной совокупности IQ распределен нормально. \n",
    "Найдите доверительный интервал для математического ожидания с надежностью 0.95."
   ]
  },
  {
   "cell_type": "code",
   "execution_count": 23,
   "id": "f574dd7c",
   "metadata": {},
   "outputs": [
    {
     "name": "stdout",
     "output_type": "stream",
     "text": [
      "Доверит. интервал:(110.55608365158724, 125.64391634841274)\n"
     ]
    }
   ],
   "source": [
    "iq = np.array([131, 125, 115, 122, 131, 115, 107, 99, 125, 111])\n",
    "iq_mean = iq.mean()\n",
    "iq_std = iq.std(ddof = 1)\n",
    "iq_mean_std = iq_std / (np.sqrt(len(iq)))\n",
    "print(f'Доверит. интервал:{t_stat(iq_mean, iq_mean_std, len(iq) - 1, 0.05, \"two-sided\")}')"
   ]
  },
  {
   "cell_type": "code",
   "execution_count": null,
   "id": "fd0a2dd3",
   "metadata": {},
   "outputs": [],
   "source": [
    "3. Известно, что рост футболистов в сборной распределен нормально с дисперсией генеральной совокупности, \n",
    "равной 25 кв.см. Объем выборки равен 27, среднее выборочное составляет 174.2. Найдите доверительный \n",
    "интервал для математического ожидания с надежностью 0.95."
   ]
  },
  {
   "cell_type": "code",
   "execution_count": 26,
   "id": "fb087a8f",
   "metadata": {},
   "outputs": [
    {
     "name": "stdout",
     "output_type": "stream",
     "text": [
      "Доверит. интервал:(172.2220658754539, 176.17793412454608)\n"
     ]
    }
   ],
   "source": [
    "meanFH = 174.2\n",
    "stdFH = np.sqrt(25)\n",
    "mean_std_FH = stdFH / np.sqrt(27)\n",
    "print(f'Доверит. интервал:{t_stat(meanFH, mean_std_FH, 27 - 1, 0.05, \"two-sided\")}')"
   ]
  }
 ],
 "metadata": {
  "kernelspec": {
   "display_name": "Python 3 (ipykernel)",
   "language": "python",
   "name": "python3"
  },
  "language_info": {
   "codemirror_mode": {
    "name": "ipython",
    "version": 3
   },
   "file_extension": ".py",
   "mimetype": "text/x-python",
   "name": "python",
   "nbconvert_exporter": "python",
   "pygments_lexer": "ipython3",
   "version": "3.9.12"
  }
 },
 "nbformat": 4,
 "nbformat_minor": 5
}
